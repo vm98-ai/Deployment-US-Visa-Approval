{
 "cells": [
  {
   "cell_type": "markdown",
   "metadata": {},
   "source": [
    "# Data Preprocessing"
   ]
  },
  {
   "cell_type": "code",
   "execution_count": 1,
   "metadata": {},
   "outputs": [
    {
     "name": "stdout",
     "output_type": "stream",
     "text": [
      "(25480, 12)\n"
     ]
    }
   ],
   "source": [
    "import pandas as pd\n",
    "import numpy as np\n",
    "import matplotlib.pyplot as plt\n",
    "import seaborn as sns\n",
    "import warnings\n",
    "\n",
    "warnings.filterwarnings(\"ignore\")\n",
    "pd.pandas.set_option(\"display.max_columns\",None)\n",
    "df = pd.read_csv(r\"EasyVisa.csv\")\n",
    "\n",
    "print(df.shape)"
   ]
  },
  {
   "cell_type": "markdown",
   "metadata": {},
   "source": [
    "## Data Cleaning"
   ]
  },
  {
   "cell_type": "code",
   "execution_count": 2,
   "metadata": {},
   "outputs": [],
   "source": [
    "features_wna = [feature for feature in df.columns if df[feature].isnull().sum()>=1]\n",
    "for feature in features_wna:\n",
    "    print(feature, np.round(df[feature].isnull().mean()*100,5), '% missing values')"
   ]
  },
  {
   "cell_type": "code",
   "execution_count": 3,
   "metadata": {},
   "outputs": [
    {
     "data": {
      "text/plain": [
       "[]"
      ]
     },
     "execution_count": 3,
     "metadata": {},
     "output_type": "execute_result"
    }
   ],
   "source": [
    "features_wna"
   ]
  },
  {
   "cell_type": "markdown",
   "metadata": {},
   "source": [
    "### There are no null values in the dataset"
   ]
  },
  {
   "cell_type": "markdown",
   "metadata": {},
   "source": [
    "#### lets check for duplicates"
   ]
  },
  {
   "cell_type": "code",
   "execution_count": 4,
   "metadata": {},
   "outputs": [
    {
     "data": {
      "text/plain": [
       "0"
      ]
     },
     "execution_count": 4,
     "metadata": {},
     "output_type": "execute_result"
    }
   ],
   "source": [
    "df.duplicated().sum()"
   ]
  },
  {
   "cell_type": "markdown",
   "metadata": {},
   "source": [
    "### There are no duplicate rows"
   ]
  },
  {
   "cell_type": "markdown",
   "metadata": {},
   "source": [
    "## Feature Extraction"
   ]
  },
  {
   "cell_type": "code",
   "execution_count": 5,
   "metadata": {},
   "outputs": [
    {
     "data": {
      "text/html": [
       "<div>\n",
       "<style scoped>\n",
       "    .dataframe tbody tr th:only-of-type {\n",
       "        vertical-align: middle;\n",
       "    }\n",
       "\n",
       "    .dataframe tbody tr th {\n",
       "        vertical-align: top;\n",
       "    }\n",
       "\n",
       "    .dataframe thead th {\n",
       "        text-align: right;\n",
       "    }\n",
       "</style>\n",
       "<table border=\"1\" class=\"dataframe\">\n",
       "  <thead>\n",
       "    <tr style=\"text-align: right;\">\n",
       "      <th></th>\n",
       "      <th>case_id</th>\n",
       "      <th>continent</th>\n",
       "      <th>education_of_employee</th>\n",
       "      <th>has_job_experience</th>\n",
       "      <th>requires_job_training</th>\n",
       "      <th>no_of_employees</th>\n",
       "      <th>yr_of_estab</th>\n",
       "      <th>region_of_employment</th>\n",
       "      <th>prevailing_wage</th>\n",
       "      <th>unit_of_wage</th>\n",
       "      <th>full_time_position</th>\n",
       "      <th>case_status</th>\n",
       "    </tr>\n",
       "  </thead>\n",
       "  <tbody>\n",
       "    <tr>\n",
       "      <th>0</th>\n",
       "      <td>EZYV01</td>\n",
       "      <td>Asia</td>\n",
       "      <td>High School</td>\n",
       "      <td>N</td>\n",
       "      <td>N</td>\n",
       "      <td>14513</td>\n",
       "      <td>2007</td>\n",
       "      <td>West</td>\n",
       "      <td>592.2029</td>\n",
       "      <td>Hour</td>\n",
       "      <td>Y</td>\n",
       "      <td>Denied</td>\n",
       "    </tr>\n",
       "    <tr>\n",
       "      <th>1</th>\n",
       "      <td>EZYV02</td>\n",
       "      <td>Asia</td>\n",
       "      <td>Master's</td>\n",
       "      <td>Y</td>\n",
       "      <td>N</td>\n",
       "      <td>2412</td>\n",
       "      <td>2002</td>\n",
       "      <td>Northeast</td>\n",
       "      <td>83425.6500</td>\n",
       "      <td>Year</td>\n",
       "      <td>Y</td>\n",
       "      <td>Certified</td>\n",
       "    </tr>\n",
       "    <tr>\n",
       "      <th>2</th>\n",
       "      <td>EZYV03</td>\n",
       "      <td>Asia</td>\n",
       "      <td>Bachelor's</td>\n",
       "      <td>N</td>\n",
       "      <td>Y</td>\n",
       "      <td>44444</td>\n",
       "      <td>2008</td>\n",
       "      <td>West</td>\n",
       "      <td>122996.8600</td>\n",
       "      <td>Year</td>\n",
       "      <td>Y</td>\n",
       "      <td>Denied</td>\n",
       "    </tr>\n",
       "    <tr>\n",
       "      <th>3</th>\n",
       "      <td>EZYV04</td>\n",
       "      <td>Asia</td>\n",
       "      <td>Bachelor's</td>\n",
       "      <td>N</td>\n",
       "      <td>N</td>\n",
       "      <td>98</td>\n",
       "      <td>1897</td>\n",
       "      <td>West</td>\n",
       "      <td>83434.0300</td>\n",
       "      <td>Year</td>\n",
       "      <td>Y</td>\n",
       "      <td>Denied</td>\n",
       "    </tr>\n",
       "    <tr>\n",
       "      <th>4</th>\n",
       "      <td>EZYV05</td>\n",
       "      <td>Africa</td>\n",
       "      <td>Master's</td>\n",
       "      <td>Y</td>\n",
       "      <td>N</td>\n",
       "      <td>1082</td>\n",
       "      <td>2005</td>\n",
       "      <td>South</td>\n",
       "      <td>149907.3900</td>\n",
       "      <td>Year</td>\n",
       "      <td>Y</td>\n",
       "      <td>Certified</td>\n",
       "    </tr>\n",
       "  </tbody>\n",
       "</table>\n",
       "</div>"
      ],
      "text/plain": [
       "  case_id continent education_of_employee has_job_experience  \\\n",
       "0  EZYV01      Asia           High School                  N   \n",
       "1  EZYV02      Asia              Master's                  Y   \n",
       "2  EZYV03      Asia            Bachelor's                  N   \n",
       "3  EZYV04      Asia            Bachelor's                  N   \n",
       "4  EZYV05    Africa              Master's                  Y   \n",
       "\n",
       "  requires_job_training  no_of_employees  yr_of_estab region_of_employment  \\\n",
       "0                     N            14513         2007                 West   \n",
       "1                     N             2412         2002            Northeast   \n",
       "2                     Y            44444         2008                 West   \n",
       "3                     N               98         1897                 West   \n",
       "4                     N             1082         2005                South   \n",
       "\n",
       "   prevailing_wage unit_of_wage full_time_position case_status  \n",
       "0         592.2029         Hour                  Y      Denied  \n",
       "1       83425.6500         Year                  Y   Certified  \n",
       "2      122996.8600         Year                  Y      Denied  \n",
       "3       83434.0300         Year                  Y      Denied  \n",
       "4      149907.3900         Year                  Y   Certified  "
      ]
     },
     "execution_count": 5,
     "metadata": {},
     "output_type": "execute_result"
    }
   ],
   "source": [
    "df.head()"
   ]
  },
  {
   "cell_type": "code",
   "execution_count": 6,
   "metadata": {},
   "outputs": [],
   "source": [
    "from datetime import date\n",
    "todays_date = date.today()\n",
    "\n",
    "current_year = todays_date.year"
   ]
  },
  {
   "cell_type": "code",
   "execution_count": 7,
   "metadata": {},
   "outputs": [
    {
     "data": {
      "text/plain": [
       "2025"
      ]
     },
     "execution_count": 7,
     "metadata": {},
     "output_type": "execute_result"
    }
   ],
   "source": [
    "current_year"
   ]
  },
  {
   "cell_type": "markdown",
   "metadata": {},
   "source": [
    "Lets find the age of the company"
   ]
  },
  {
   "cell_type": "code",
   "execution_count": 9,
   "metadata": {},
   "outputs": [],
   "source": [
    "df['company_age'] = current_year - df['yr_of_estab']"
   ]
  },
  {
   "cell_type": "code",
   "execution_count": 10,
   "metadata": {},
   "outputs": [
    {
     "data": {
      "text/html": [
       "<div>\n",
       "<style scoped>\n",
       "    .dataframe tbody tr th:only-of-type {\n",
       "        vertical-align: middle;\n",
       "    }\n",
       "\n",
       "    .dataframe tbody tr th {\n",
       "        vertical-align: top;\n",
       "    }\n",
       "\n",
       "    .dataframe thead th {\n",
       "        text-align: right;\n",
       "    }\n",
       "</style>\n",
       "<table border=\"1\" class=\"dataframe\">\n",
       "  <thead>\n",
       "    <tr style=\"text-align: right;\">\n",
       "      <th></th>\n",
       "      <th>case_id</th>\n",
       "      <th>continent</th>\n",
       "      <th>education_of_employee</th>\n",
       "      <th>has_job_experience</th>\n",
       "      <th>requires_job_training</th>\n",
       "      <th>no_of_employees</th>\n",
       "      <th>yr_of_estab</th>\n",
       "      <th>region_of_employment</th>\n",
       "      <th>prevailing_wage</th>\n",
       "      <th>unit_of_wage</th>\n",
       "      <th>full_time_position</th>\n",
       "      <th>case_status</th>\n",
       "      <th>company_age</th>\n",
       "    </tr>\n",
       "  </thead>\n",
       "  <tbody>\n",
       "    <tr>\n",
       "      <th>0</th>\n",
       "      <td>EZYV01</td>\n",
       "      <td>Asia</td>\n",
       "      <td>High School</td>\n",
       "      <td>N</td>\n",
       "      <td>N</td>\n",
       "      <td>14513</td>\n",
       "      <td>2007</td>\n",
       "      <td>West</td>\n",
       "      <td>592.2029</td>\n",
       "      <td>Hour</td>\n",
       "      <td>Y</td>\n",
       "      <td>Denied</td>\n",
       "      <td>18</td>\n",
       "    </tr>\n",
       "    <tr>\n",
       "      <th>1</th>\n",
       "      <td>EZYV02</td>\n",
       "      <td>Asia</td>\n",
       "      <td>Master's</td>\n",
       "      <td>Y</td>\n",
       "      <td>N</td>\n",
       "      <td>2412</td>\n",
       "      <td>2002</td>\n",
       "      <td>Northeast</td>\n",
       "      <td>83425.6500</td>\n",
       "      <td>Year</td>\n",
       "      <td>Y</td>\n",
       "      <td>Certified</td>\n",
       "      <td>23</td>\n",
       "    </tr>\n",
       "    <tr>\n",
       "      <th>2</th>\n",
       "      <td>EZYV03</td>\n",
       "      <td>Asia</td>\n",
       "      <td>Bachelor's</td>\n",
       "      <td>N</td>\n",
       "      <td>Y</td>\n",
       "      <td>44444</td>\n",
       "      <td>2008</td>\n",
       "      <td>West</td>\n",
       "      <td>122996.8600</td>\n",
       "      <td>Year</td>\n",
       "      <td>Y</td>\n",
       "      <td>Denied</td>\n",
       "      <td>17</td>\n",
       "    </tr>\n",
       "    <tr>\n",
       "      <th>3</th>\n",
       "      <td>EZYV04</td>\n",
       "      <td>Asia</td>\n",
       "      <td>Bachelor's</td>\n",
       "      <td>N</td>\n",
       "      <td>N</td>\n",
       "      <td>98</td>\n",
       "      <td>1897</td>\n",
       "      <td>West</td>\n",
       "      <td>83434.0300</td>\n",
       "      <td>Year</td>\n",
       "      <td>Y</td>\n",
       "      <td>Denied</td>\n",
       "      <td>128</td>\n",
       "    </tr>\n",
       "    <tr>\n",
       "      <th>4</th>\n",
       "      <td>EZYV05</td>\n",
       "      <td>Africa</td>\n",
       "      <td>Master's</td>\n",
       "      <td>Y</td>\n",
       "      <td>N</td>\n",
       "      <td>1082</td>\n",
       "      <td>2005</td>\n",
       "      <td>South</td>\n",
       "      <td>149907.3900</td>\n",
       "      <td>Year</td>\n",
       "      <td>Y</td>\n",
       "      <td>Certified</td>\n",
       "      <td>20</td>\n",
       "    </tr>\n",
       "  </tbody>\n",
       "</table>\n",
       "</div>"
      ],
      "text/plain": [
       "  case_id continent education_of_employee has_job_experience  \\\n",
       "0  EZYV01      Asia           High School                  N   \n",
       "1  EZYV02      Asia              Master's                  Y   \n",
       "2  EZYV03      Asia            Bachelor's                  N   \n",
       "3  EZYV04      Asia            Bachelor's                  N   \n",
       "4  EZYV05    Africa              Master's                  Y   \n",
       "\n",
       "  requires_job_training  no_of_employees  yr_of_estab region_of_employment  \\\n",
       "0                     N            14513         2007                 West   \n",
       "1                     N             2412         2002            Northeast   \n",
       "2                     Y            44444         2008                 West   \n",
       "3                     N               98         1897                 West   \n",
       "4                     N             1082         2005                South   \n",
       "\n",
       "   prevailing_wage unit_of_wage full_time_position case_status  company_age  \n",
       "0         592.2029         Hour                  Y      Denied           18  \n",
       "1       83425.6500         Year                  Y   Certified           23  \n",
       "2      122996.8600         Year                  Y      Denied           17  \n",
       "3       83434.0300         Year                  Y      Denied          128  \n",
       "4      149907.3900         Year                  Y   Certified           20  "
      ]
     },
     "execution_count": 10,
     "metadata": {},
     "output_type": "execute_result"
    }
   ],
   "source": [
    "df.head()"
   ]
  },
  {
   "cell_type": "code",
   "execution_count": 11,
   "metadata": {},
   "outputs": [],
   "source": [
    "df.drop('yr_of_estab',inplace=True, axis=1)"
   ]
  },
  {
   "cell_type": "markdown",
   "metadata": {},
   "source": [
    "Types of features\n",
    "Numerical features and categorical features"
   ]
  },
  {
   "cell_type": "code",
   "execution_count": 12,
   "metadata": {},
   "outputs": [
    {
     "name": "stdout",
     "output_type": "stream",
     "text": [
      "['no_of_employees', 'prevailing_wage', 'company_age']\n"
     ]
    }
   ],
   "source": [
    "numerical_features = [feature for feature in df.columns if df[feature].dtype!='O']\n",
    "print(numerical_features)"
   ]
  },
  {
   "cell_type": "code",
   "execution_count": 13,
   "metadata": {},
   "outputs": [
    {
     "name": "stdout",
     "output_type": "stream",
     "text": [
      "['case_id', 'continent', 'education_of_employee', 'has_job_experience', 'requires_job_training', 'region_of_employment', 'unit_of_wage', 'full_time_position', 'case_status']\n"
     ]
    }
   ],
   "source": [
    "categorical_features = [feature for feature in df.columns if df[feature].dtype == 'O']\n",
    "print(categorical_features)"
   ]
  },
  {
   "cell_type": "markdown",
   "metadata": {},
   "source": [
    "### Split the dataframe into x and y"
   ]
  },
  {
   "cell_type": "code",
   "execution_count": 14,
   "metadata": {},
   "outputs": [],
   "source": [
    "X = df.drop('case_status',axis=1)\n",
    "y = df['case_status']"
   ]
  },
  {
   "cell_type": "code",
   "execution_count": 15,
   "metadata": {},
   "outputs": [
    {
     "data": {
      "text/plain": [
       "0       Denied\n",
       "1    Certified\n",
       "2       Denied\n",
       "3       Denied\n",
       "4    Certified\n",
       "Name: case_status, dtype: object"
      ]
     },
     "execution_count": 15,
     "metadata": {},
     "output_type": "execute_result"
    }
   ],
   "source": [
    "y.head()"
   ]
  },
  {
   "cell_type": "code",
   "execution_count": 16,
   "metadata": {},
   "outputs": [],
   "source": [
    "y = np.where(y=='Denied',1,0)"
   ]
  },
  {
   "cell_type": "code",
   "execution_count": 17,
   "metadata": {},
   "outputs": [
    {
     "data": {
      "text/plain": [
       "array([1, 0, 1, ..., 0, 0, 0])"
      ]
     },
     "execution_count": 17,
     "metadata": {},
     "output_type": "execute_result"
    }
   ],
   "source": [
    "y"
   ]
  },
  {
   "cell_type": "markdown",
   "metadata": {},
   "source": [
    "## Feature Transformation"
   ]
  },
  {
   "cell_type": "code",
   "execution_count": 18,
   "metadata": {},
   "outputs": [
    {
     "data": {
      "text/plain": [
       "Index(['case_id', 'continent', 'education_of_employee', 'has_job_experience',\n",
       "       'requires_job_training', 'no_of_employees', 'region_of_employment',\n",
       "       'prevailing_wage', 'unit_of_wage', 'full_time_position', 'company_age'],\n",
       "      dtype='object')"
      ]
     },
     "execution_count": 18,
     "metadata": {},
     "output_type": "execute_result"
    }
   ],
   "source": [
    "X.columns"
   ]
  },
  {
   "cell_type": "code",
   "execution_count": 19,
   "metadata": {},
   "outputs": [
    {
     "data": {
      "image/png": "[encoded data removed]",
      "text/plain": [
       "<Figure size 1000x800 with 3 Axes>"
      ]
     },
     "metadata": {},
     "output_type": "display_data"
    }
   ],
   "source": [
    "# lets check the distribution of data before scaling\n",
    "\n",
    "plt.figure(figsize=(10,8))\n",
    "for i,j in enumerate(['no_of_employees','prevailing_wage','company_age']):\n",
    "    plt.subplot(2,2,i+1)\n",
    "    sns.histplot(x=X[j],color=\"indianred\")\n",
    "    plt.xlabel(j)\n",
    "    plt.tight_layout()"
   ]
  },
  {
   "cell_type": "markdown",
   "metadata": {},
   "source": [
    "#### Since skewness exists in the above we will apply power transform to make the data more gaussian"
   ]
  },
  {
   "cell_type": "code",
   "execution_count": 20,
   "metadata": {},
   "outputs": [],
   "source": [
    "from sklearn.preprocessing import PowerTransformer\n",
    "pt = PowerTransformer('yeo-johnson')\n",
    "transform_feature = ['company_age','no_of_employees']\n",
    "X_copy = pt.fit_transform(X[transform_feature])"
   ]
  },
  {
   "cell_type": "code",
   "execution_count": 21,
   "metadata": {},
   "outputs": [],
   "source": [
    "X_copy = pd.DataFrame(X_copy, columns=transform_feature)"
   ]
  },
  {
   "cell_type": "code",
   "execution_count": 22,
   "metadata": {},
   "outputs": [
    {
     "data": {
      "text/html": [
       "<div>\n",
       "<style scoped>\n",
       "    .dataframe tbody tr th:only-of-type {\n",
       "        vertical-align: middle;\n",
       "    }\n",
       "\n",
       "    .dataframe tbody tr th {\n",
       "        vertical-align: top;\n",
       "    }\n",
       "\n",
       "    .dataframe thead th {\n",
       "        text-align: right;\n",
       "    }\n",
       "</style>\n",
       "<table border=\"1\" class=\"dataframe\">\n",
       "  <thead>\n",
       "    <tr style=\"text-align: right;\">\n",
       "      <th></th>\n",
       "      <th>company_age</th>\n",
       "      <th>no_of_employees</th>\n",
       "    </tr>\n",
       "  </thead>\n",
       "  <tbody>\n",
       "    <tr>\n",
       "      <th>0</th>\n",
       "      <td>-0.955551</td>\n",
       "      <td>1.517300</td>\n",
       "    </tr>\n",
       "    <tr>\n",
       "      <th>1</th>\n",
       "      <td>-0.467001</td>\n",
       "      <td>0.030912</td>\n",
       "    </tr>\n",
       "    <tr>\n",
       "      <th>2</th>\n",
       "      <td>-1.078363</td>\n",
       "      <td>2.885076</td>\n",
       "    </tr>\n",
       "    <tr>\n",
       "      <th>3</th>\n",
       "      <td>1.630914</td>\n",
       "      <td>-1.343550</td>\n",
       "    </tr>\n",
       "    <tr>\n",
       "      <th>4</th>\n",
       "      <td>-0.738126</td>\n",
       "      <td>-0.432287</td>\n",
       "    </tr>\n",
       "  </tbody>\n",
       "</table>\n",
       "</div>"
      ],
      "text/plain": [
       "   company_age  no_of_employees\n",
       "0    -0.955551         1.517300\n",
       "1    -0.467001         0.030912\n",
       "2    -1.078363         2.885076\n",
       "3     1.630914        -1.343550\n",
       "4    -0.738126        -0.432287"
      ]
     },
     "execution_count": 22,
     "metadata": {},
     "output_type": "execute_result"
    }
   ],
   "source": [
    "X_copy.head()"
   ]
  },
  {
   "cell_type": "code",
   "execution_count": 23,
   "metadata": {},
   "outputs": [
    {
     "data": {
      "image/png": "[encoded data removed]",
      "text/plain": [
       "<Figure size 1000x800 with 2 Axes>"
      ]
     },
     "metadata": {},
     "output_type": "display_data"
    }
   ],
   "source": [
    "\n",
    "plt.figure(figsize=(10,8))\n",
    "for i,j in enumerate(['no_of_employees','company_age']):\n",
    "    plt.subplot(2,2,i+1)\n",
    "    sns.histplot(x=X_copy[j],color=\"indianred\")\n",
    "    plt.xlabel(j)\n",
    "    plt.tight_layout()"
   ]
  },
  {
   "cell_type": "code",
   "execution_count": 24,
   "metadata": {},
   "outputs": [
    {
     "data": {
      "text/plain": [
       "company_age        0.112260\n",
       "no_of_employees    0.399339\n",
       "dtype: float64"
      ]
     },
     "execution_count": 24,
     "metadata": {},
     "output_type": "execute_result"
    }
   ],
   "source": [
    "X_copy.skew(axis=0,skipna=True)"
   ]
  },
  {
   "cell_type": "markdown",
   "metadata": {},
   "source": [
    "## Feature Encoding and Scaling Techniques"
   ]
  },
  {
   "cell_type": "code",
   "execution_count": 26,
   "metadata": {},
   "outputs": [],
   "source": [
    "num_features = list(X.select_dtypes(exclude=\"object\").columns)"
   ]
  },
  {
   "cell_type": "code",
   "execution_count": 27,
   "metadata": {},
   "outputs": [
    {
     "data": {
      "text/plain": [
       "['no_of_employees', 'prevailing_wage', 'company_age']"
      ]
     },
     "execution_count": 27,
     "metadata": {},
     "output_type": "execute_result"
    }
   ],
   "source": [
    "num_features"
   ]
  },
  {
   "cell_type": "code",
   "execution_count": 28,
   "metadata": {},
   "outputs": [],
   "source": [
    "# Create Column Transformer with 3 types of transformers\n",
    "or_columns = ['has_job_experience','requires_job_training','full_time_position','education_of_employee']\n",
    "oh_columns = ['continent','unit_of_wage','region_of_employment']\n",
    "transform_columns= ['no_of_employees','company_age']\n",
    "\n",
    "from sklearn.preprocessing import OneHotEncoder, StandardScaler,OrdinalEncoder, PowerTransformer\n",
    "from sklearn.compose import ColumnTransformer \n",
    "from sklearn.pipeline import Pipeline\n",
    "\n",
    "numeric_transformer = StandardScaler()\n",
    "oh_transformer = OneHotEncoder()\n",
    "ordinal_encoder = OrdinalEncoder()\n",
    "\n",
    "transform_pipe = Pipeline(steps=[\n",
    "    ('transformer', PowerTransformer(method='yeo-johnson'))\n",
    "])\n",
    "\n",
    "preprocessor = ColumnTransformer(\n",
    "    [\n",
    "        (\"OneHotEncoder\", oh_transformer, oh_columns),\n",
    "        (\"Ordinal_Encoder\", ordinal_encoder, or_columns),\n",
    "        (\"Transformer\", transform_pipe, transform_columns),\n",
    "        (\"StandardScaler\", numeric_transformer, num_features)\n",
    "    ]\n",
    ")"
   ]
  },
  {
   "cell_type": "code",
   "execution_count": 29,
   "metadata": {},
   "outputs": [],
   "source": [
    "\n",
    "\n",
    "X = preprocessor.fit_transform(X)\n",
    "\n"
   ]
  },
  {
   "cell_type": "markdown",
   "metadata": {},
   "source": [
    "## Classification"
   ]
  },
  {
   "cell_type": "code",
   "execution_count": 30,
   "metadata": {},
   "outputs": [],
   "source": [
    "\n",
    "\n",
    "from imblearn.combine import SMOTETomek, SMOTEENN\n",
    "\n",
    "# Resampling the minority class. The strategy can be changed as required.\n",
    "smt = SMOTEENN(random_state=42,sampling_strategy='minority' )\n",
    "# Fit the model to generate the data.\n",
    "X_res, y_res = smt.fit_resample(X, y)\n",
    "\n"
   ]
  },
  {
   "cell_type": "code",
   "execution_count": 31,
   "metadata": {},
   "outputs": [
    {
     "data": {
      "text/plain": [
       "((13629, 24), (3408, 24))"
      ]
     },
     "execution_count": 31,
     "metadata": {},
     "output_type": "execute_result"
    }
   ],
   "source": [
    "\n",
    "\n",
    "from sklearn.model_selection import  train_test_split\n",
    "# separate dataset into train and test\n",
    "X_train, X_test, y_train, y_test = train_test_split(X_res,y_res,test_size=0.2,random_state=42)\n",
    "X_train.shape, X_test.shape\n",
    "\n"
   ]
  },
  {
   "cell_type": "code",
   "execution_count": 32,
   "metadata": {},
   "outputs": [],
   "source": [
    "\n",
    "\n",
    "from sklearn.ensemble import RandomForestClassifier, AdaBoostClassifier, GradientBoostingClassifier\n",
    "from sklearn.linear_model import LogisticRegression\n",
    "from sklearn.neighbors import KNeighborsClassifier\n",
    "from sklearn.tree import DecisionTreeClassifier\n",
    "from sklearn.svm import SVC\n",
    "from sklearn.metrics import accuracy_score, classification_report,ConfusionMatrixDisplay, \\\n",
    "                            precision_score, recall_score, f1_score, roc_auc_score,roc_curve \n",
    "from xgboost import XGBClassifier\n",
    "from catboost import CatBoostClassifier\n",
    "\n"
   ]
  },
  {
   "cell_type": "code",
   "execution_count": 33,
   "metadata": {},
   "outputs": [],
   "source": [
    "\n",
    "\n",
    "def evaluate_clf(true, predicted):\n",
    "    acc = accuracy_score(true, predicted) # Calculate Accuracy\n",
    "    f1 = f1_score(true, predicted) # Calculate F1-score\n",
    "    precision = precision_score(true, predicted) # Calculate Precision\n",
    "    recall = recall_score(true, predicted)  # Calculate Recall\n",
    "    roc_auc = roc_auc_score(true, predicted) #Calculate Roc\n",
    "    return acc, f1 , precision, recall, roc_auc\n",
    "\n"
   ]
  },
  {
   "cell_type": "code",
   "execution_count": 34,
   "metadata": {},
   "outputs": [],
   "source": [
    "\n",
    "\n",
    "models = {\n",
    "    \"Random Forest\": RandomForestClassifier(),\n",
    "    \"Decision Tree\": DecisionTreeClassifier(),\n",
    "    \"Gradient Boosting\": GradientBoostingClassifier(),\n",
    "    \"Logistic Regression\": LogisticRegression(),\n",
    "     \"K-Neighbors Classifier\": KNeighborsClassifier(),\n",
    "    \"XGBClassifier\": XGBClassifier(), \n",
    "     \"CatBoosting Classifier\": CatBoostClassifier(verbose=False),\n",
    "     \"Support Vector Classifier\": SVC(),\n",
    "    \"AdaBoost Classifier\": AdaBoostClassifier()\n",
    "\n",
    "}\n",
    "\n"
   ]
  },
  {
   "cell_type": "code",
   "execution_count": 35,
   "metadata": {},
   "outputs": [],
   "source": [
    "# Create a function which can evaluate models and return a report \n",
    "def evaluate_models(X, y, models):\n",
    "    '''\n",
    "    This function takes in X and y and models dictionary as input\n",
    "    It splits the data into Train Test split\n",
    "    Iterates through the given model dictionary and evaluates the metrics\n",
    "    Returns: Dataframe which contains report of all models metrics with cost\n",
    "    '''\n",
    "    # separate dataset into train and test\n",
    "    X_train, X_test, y_train, y_test = train_test_split(X,y,test_size=0.2,random_state=42)\n",
    "    \n",
    "    models_list = []\n",
    "    accuracy_list = []\n",
    "    auc= []\n",
    "    \n",
    "    for i in range(len(list(models))):\n",
    "        model = list(models.values())[i]\n",
    "        model.fit(X_train, y_train) # Train model\n",
    "\n",
    "        # Make predictions\n",
    "        y_train_pred = model.predict(X_train)\n",
    "        y_test_pred = model.predict(X_test)\n",
    "\n",
    "        # Training set performance\n",
    "        model_train_accuracy, model_train_f1,model_train_precision,\\\n",
    "        model_train_recall,model_train_rocauc_score=evaluate_clf(y_train ,y_train_pred)\n",
    "\n",
    "\n",
    "        # Test set performance\n",
    "        model_test_accuracy,model_test_f1,model_test_precision,\\\n",
    "        model_test_recall,model_test_rocauc_score=evaluate_clf(y_test, y_test_pred)\n",
    "\n",
    "        print(list(models.keys())[i])\n",
    "        models_list.append(list(models.keys())[i])\n",
    "\n",
    "        print('Model performance for Training set')\n",
    "        print(\"- Accuracy: {:.4f}\".format(model_train_accuracy))\n",
    "        print('- F1 score: {:.4f}'.format(model_train_f1)) \n",
    "        print('- Precision: {:.4f}'.format(model_train_precision))\n",
    "        print('- Recall: {:.4f}'.format(model_train_recall))\n",
    "        print('- Roc Auc Score: {:.4f}'.format(model_train_rocauc_score))\n",
    "\n",
    "        print('----------------------------------')\n",
    "\n",
    "        print('Model performance for Test set')\n",
    "        print('- Accuracy: {:.4f}'.format(model_test_accuracy))\n",
    "        accuracy_list.append(model_test_accuracy)\n",
    "        print('- F1 score: {:.4f}'.format(model_test_f1))\n",
    "        print('- Precision: {:.4f}'.format(model_test_precision))\n",
    "        print('- Recall: {:.4f}'.format(model_test_recall))\n",
    "        print('- Roc Auc Score: {:.4f}'.format(model_test_rocauc_score))\n",
    "        auc.append(model_test_rocauc_score)\n",
    "        print('='*35)\n",
    "        print('\\n')\n",
    "        \n",
    "    report=pd.DataFrame(list(zip(models_list, accuracy_list)), columns=['Model Name', 'Accuracy']).sort_values(by=['Accuracy'], ascending=False)\n",
    "        \n",
    "    return report"
   ]
  },
  {
   "cell_type": "code",
   "execution_count": 36,
   "metadata": {},
   "outputs": [
    {
     "name": "stdout",
     "output_type": "stream",
     "text": [
      "Random Forest\n",
      "Model performance for Training set\n",
      "- Accuracy: 0.9999\n",
      "- F1 score: 0.9999\n",
      "- Precision: 1.0000\n",
      "- Recall: 0.9999\n",
      "- Roc Auc Score: 0.9999\n",
      "----------------------------------\n",
      "Model performance for Test set\n",
      "- Accuracy: 0.9531\n",
      "- F1 score: 0.9567\n",
      "- Precision: 0.9526\n",
      "- Recall: 0.9609\n",
      "- Roc Auc Score: 0.9524\n",
      "===================================\n",
      "\n",
      "\n",
      "Decision Tree\n",
      "Model performance for Training set\n",
      "- Accuracy: 1.0000\n",
      "- F1 score: 1.0000\n",
      "- Precision: 1.0000\n",
      "- Recall: 1.0000\n",
      "- Roc Auc Score: 1.0000\n",
      "----------------------------------\n",
      "Model performance for Test set\n",
      "- Accuracy: 0.9252\n",
      "- F1 score: 0.9313\n",
      "- Precision: 0.9236\n",
      "- Recall: 0.9391\n",
      "- Roc Auc Score: 0.9240\n",
      "===================================\n",
      "\n",
      "\n",
      "Gradient Boosting\n",
      "Model performance for Training set\n",
      "- Accuracy: 0.8897\n",
      "- F1 score: 0.8965\n",
      "- Precision: 0.9068\n",
      "- Recall: 0.8865\n",
      "- Roc Auc Score: 0.8900\n",
      "----------------------------------\n",
      "Model performance for Test set\n",
      "- Accuracy: 0.8791\n",
      "- F1 score: 0.8875\n",
      "- Precision: 0.8919\n",
      "- Recall: 0.8832\n",
      "- Roc Auc Score: 0.8788\n",
      "===================================\n",
      "\n",
      "\n",
      "Logistic Regression\n",
      "Model performance for Training set\n",
      "- Accuracy: 0.7382\n",
      "- F1 score: 0.7523\n",
      "- Precision: 0.7677\n",
      "- Recall: 0.7374\n",
      "- Roc Auc Score: 0.7383\n",
      "----------------------------------\n",
      "Model performance for Test set\n",
      "- Accuracy: 0.7256\n",
      "- F1 score: 0.7411\n",
      "- Precision: 0.7555\n",
      "- Recall: 0.7272\n",
      "- Roc Auc Score: 0.7255\n",
      "===================================\n",
      "\n",
      "\n",
      "K-Neighbors Classifier\n",
      "Model performance for Training set\n",
      "- Accuracy: 0.9655\n",
      "- F1 score: 0.9684\n",
      "- Precision: 0.9574\n",
      "- Recall: 0.9796\n",
      "- Roc Auc Score: 0.9643\n",
      "----------------------------------\n",
      "Model performance for Test set\n",
      "- Accuracy: 0.9416\n",
      "- F1 score: 0.9467\n",
      "- Precision: 0.9339\n",
      "- Recall: 0.9598\n",
      "- Roc Auc Score: 0.9400\n",
      "===================================\n",
      "\n",
      "\n",
      "XGBClassifier\n",
      "Model performance for Training set\n",
      "- Accuracy: 0.9794\n",
      "- F1 score: 0.9809\n",
      "- Precision: 0.9802\n",
      "- Recall: 0.9816\n",
      "- Roc Auc Score: 0.9792\n",
      "----------------------------------\n",
      "Model performance for Test set\n",
      "- Accuracy: 0.9352\n",
      "- F1 score: 0.9397\n",
      "- Precision: 0.9431\n",
      "- Recall: 0.9364\n",
      "- Roc Auc Score: 0.9350\n",
      "===================================\n",
      "\n",
      "\n",
      "CatBoosting Classifier\n",
      "Model performance for Training set\n",
      "- Accuracy: 0.9541\n",
      "- F1 score: 0.9571\n",
      "- Precision: 0.9627\n",
      "- Recall: 0.9517\n",
      "- Roc Auc Score: 0.9543\n",
      "----------------------------------\n",
      "Model performance for Test set\n",
      "- Accuracy: 0.9281\n",
      "- F1 score: 0.9327\n",
      "- Precision: 0.9423\n",
      "- Recall: 0.9234\n",
      "- Roc Auc Score: 0.9285\n",
      "===================================\n",
      "\n",
      "\n",
      "Support Vector Classifier\n",
      "Model performance for Training set\n",
      "- Accuracy: 0.8740\n",
      "- F1 score: 0.8825\n",
      "- Precision: 0.8871\n",
      "- Recall: 0.8780\n",
      "- Roc Auc Score: 0.8737\n",
      "----------------------------------\n",
      "Model performance for Test set\n",
      "- Accuracy: 0.8571\n",
      "- F1 score: 0.8678\n",
      "- Precision: 0.8671\n",
      "- Recall: 0.8685\n",
      "- Roc Auc Score: 0.8561\n",
      "===================================\n",
      "\n",
      "\n",
      "AdaBoost Classifier\n",
      "Model performance for Training set\n",
      "- Accuracy: 0.8538\n",
      "- F1 score: 0.8644\n",
      "- Precision: 0.8647\n",
      "- Recall: 0.8640\n",
      "- Roc Auc Score: 0.8530\n",
      "----------------------------------\n",
      "Model performance for Test set\n",
      "- Accuracy: 0.8492\n",
      "- F1 score: 0.8609\n",
      "- Precision: 0.8576\n",
      "- Recall: 0.8641\n",
      "- Roc Auc Score: 0.8479\n",
      "===================================\n",
      "\n",
      "\n"
     ]
    }
   ],
   "source": [
    "\n",
    "\n",
    "base_model_report =evaluate_models(X=X_res, y=y_res, models=models)\n",
    "\n"
   ]
  },
  {
   "cell_type": "code",
   "execution_count": 37,
   "metadata": {},
   "outputs": [
    {
     "data": {
      "text/html": [
       "<div>\n",
       "<style scoped>\n",
       "    .dataframe tbody tr th:only-of-type {\n",
       "        vertical-align: middle;\n",
       "    }\n",
       "\n",
       "    .dataframe tbody tr th {\n",
       "        vertical-align: top;\n",
       "    }\n",
       "\n",
       "    .dataframe thead th {\n",
       "        text-align: right;\n",
       "    }\n",
       "</style>\n",
       "<table border=\"1\" class=\"dataframe\">\n",
       "  <thead>\n",
       "    <tr style=\"text-align: right;\">\n",
       "      <th></th>\n",
       "      <th>Model Name</th>\n",
       "      <th>Accuracy</th>\n",
       "    </tr>\n",
       "  </thead>\n",
       "  <tbody>\n",
       "    <tr>\n",
       "      <th>0</th>\n",
       "      <td>Random Forest</td>\n",
       "      <td>0.953052</td>\n",
       "    </tr>\n",
       "    <tr>\n",
       "      <th>4</th>\n",
       "      <td>K-Neighbors Classifier</td>\n",
       "      <td>0.941608</td>\n",
       "    </tr>\n",
       "    <tr>\n",
       "      <th>5</th>\n",
       "      <td>XGBClassifier</td>\n",
       "      <td>0.935153</td>\n",
       "    </tr>\n",
       "    <tr>\n",
       "      <th>6</th>\n",
       "      <td>CatBoosting Classifier</td>\n",
       "      <td>0.928110</td>\n",
       "    </tr>\n",
       "    <tr>\n",
       "      <th>1</th>\n",
       "      <td>Decision Tree</td>\n",
       "      <td>0.925176</td>\n",
       "    </tr>\n",
       "    <tr>\n",
       "      <th>2</th>\n",
       "      <td>Gradient Boosting</td>\n",
       "      <td>0.879108</td>\n",
       "    </tr>\n",
       "    <tr>\n",
       "      <th>7</th>\n",
       "      <td>Support Vector Classifier</td>\n",
       "      <td>0.857101</td>\n",
       "    </tr>\n",
       "    <tr>\n",
       "      <th>8</th>\n",
       "      <td>AdaBoost Classifier</td>\n",
       "      <td>0.849178</td>\n",
       "    </tr>\n",
       "    <tr>\n",
       "      <th>3</th>\n",
       "      <td>Logistic Regression</td>\n",
       "      <td>0.725646</td>\n",
       "    </tr>\n",
       "  </tbody>\n",
       "</table>\n",
       "</div>"
      ],
      "text/plain": [
       "                  Model Name  Accuracy\n",
       "0              Random Forest  0.953052\n",
       "4     K-Neighbors Classifier  0.941608\n",
       "5              XGBClassifier  0.935153\n",
       "6     CatBoosting Classifier  0.928110\n",
       "1              Decision Tree  0.925176\n",
       "2          Gradient Boosting  0.879108\n",
       "7  Support Vector Classifier  0.857101\n",
       "8        AdaBoost Classifier  0.849178\n",
       "3        Logistic Regression  0.725646"
      ]
     },
     "execution_count": 37,
     "metadata": {},
     "output_type": "execute_result"
    }
   ],
   "source": [
    "base_model_report"
   ]
  },
  {
   "cell_type": "markdown",
   "metadata": {},
   "source": [
    "\n",
    "\n",
    "Here we can use Random Forest for Hyper Parameter Tuning\n",
    "\n",
    "Define the parameter distribution for Random forest\n"
   ]
  },
  {
   "cell_type": "code",
   "execution_count": 38,
   "metadata": {},
   "outputs": [],
   "source": [
    "\n",
    "\n",
    "#Initialize few parameter for Hyperparamter tuning\n",
    "xgboost_params = {\n",
    "    'max_depth':range(3,10,2),\n",
    "    'min_child_weight':range(1,6,2)\n",
    "}\n",
    "\n",
    "rf_params = {\n",
    "    \"max_depth\": [10, 12, None, 15, 20],\n",
    "    \"max_features\": ['sqrt', 'log2', None],\n",
    "    \"n_estimators\": [10, 50, 100, 200]\n",
    "}\n",
    "\n",
    "knn_params = {\n",
    "    \"algorithm\": ['auto', 'ball_tree', 'kd_tree','brute'],\n",
    "    \"weights\": ['uniform', 'distance'],\n",
    "    \"n_neighbors\": [3, 4, 5, 7, 9],\n",
    "}\n",
    "\n"
   ]
  },
  {
   "cell_type": "code",
   "execution_count": 39,
   "metadata": {},
   "outputs": [],
   "source": [
    "\n",
    "\n",
    "# Models list for Hyperparameter tuning\n",
    "randomcv_models = [\n",
    "    ('XGBoost', XGBClassifier(), xgboost_params),\n",
    "    (\"RF\", RandomForestClassifier(), rf_params),\n",
    "    (\"KNN\", KNeighborsClassifier(), knn_params)\n",
    "]\n",
    "\n"
   ]
  },
  {
   "cell_type": "markdown",
   "metadata": {},
   "source": [
    "Create a function for model training and report which can be used in hyperparameter tuning loop"
   ]
  },
  {
   "cell_type": "code",
   "execution_count": 40,
   "metadata": {},
   "outputs": [
    {
     "name": "stdout",
     "output_type": "stream",
     "text": [
      "Fitting 3 folds for each of 12 candidates, totalling 36 fits\n",
      "[CV] END ....................max_depth=3, min_child_weight=1; total time=   0.5s\n",
      "[CV] END ....................max_depth=3, min_child_weight=3; total time=   0.6s\n",
      "[CV] END ....................max_depth=3, min_child_weight=1; total time=   0.7s\n",
      "[CV] END ....................max_depth=3, min_child_weight=3; total time=   0.6s\n",
      "[CV] END ....................max_depth=3, min_child_weight=5; total time=   0.6s\n",
      "[CV] END ....................max_depth=3, min_child_weight=5; total time=   0.3s\n",
      "[CV] END ....................max_depth=3, min_child_weight=3; total time=   0.7s\n",
      "[CV] END ....................max_depth=3, min_child_weight=1; total time=   0.8s\n",
      "[CV] END ....................max_depth=3, min_child_weight=5; total time=   0.8s\n",
      "[CV] END ....................max_depth=5, min_child_weight=1; total time=   0.4s\n",
      "[CV] END ....................max_depth=5, min_child_weight=3; total time=   0.4s\n",
      "[CV] END ....................max_depth=5, min_child_weight=1; total time=   0.5s\n",
      "[CV] END ....................max_depth=5, min_child_weight=1; total time=   0.6s\n",
      "[CV] END ....................max_depth=5, min_child_weight=3; total time=   0.5s\n",
      "[CV] END ....................max_depth=5, min_child_weight=3; total time=   0.5s\n",
      "[CV] END ....................max_depth=5, min_child_weight=5; total time=   0.5s\n",
      "[CV] END ....................max_depth=5, min_child_weight=5; total time=   0.6s\n",
      "[CV] END ....................max_depth=5, min_child_weight=5; total time=   0.5s\n",
      "[CV] END ....................max_depth=7, min_child_weight=1; total time=   0.8s\n",
      "[CV] END ....................max_depth=7, min_child_weight=1; total time=   0.9s\n",
      "[CV] END ....................max_depth=7, min_child_weight=1; total time=   1.0s\n",
      "[CV] END ....................max_depth=7, min_child_weight=3; total time=   1.0s\n",
      "[CV] END ....................max_depth=7, min_child_weight=5; total time=   0.6s\n",
      "[CV] END ....................max_depth=7, min_child_weight=3; total time=   0.8s\n",
      "[CV] END ....................max_depth=7, min_child_weight=5; total time=   0.8s\n",
      "[CV] END ....................max_depth=7, min_child_weight=3; total time=   0.8s\n",
      "[CV] END ....................max_depth=7, min_child_weight=5; total time=   0.6s\n",
      "[CV] END ....................max_depth=9, min_child_weight=3; total time=   0.9s\n",
      "[CV] END ....................max_depth=9, min_child_weight=3; total time=   0.8s\n",
      "[CV] END ....................max_depth=9, min_child_weight=3; total time=   1.0s\n",
      "[CV] END ....................max_depth=9, min_child_weight=5; total time=   0.9s\n",
      "[CV] END ....................max_depth=9, min_child_weight=1; total time=   1.1s\n",
      "[CV] END ....................max_depth=9, min_child_weight=1; total time=   1.2s\n",
      "[CV] END ....................max_depth=9, min_child_weight=1; total time=   1.3s\n",
      "[CV] END ....................max_depth=9, min_child_weight=5; total time=   0.7s\n",
      "[CV] END ....................max_depth=9, min_child_weight=5; total time=   0.4s\n",
      "Fitting 3 folds for each of 60 candidates, totalling 180 fits\n",
      "[CV] END ...max_depth=10, max_features=sqrt, n_estimators=10; total time=   0.2s\n",
      "[CV] END ...max_depth=10, max_features=sqrt, n_estimators=10; total time=   0.2s\n",
      "[CV] END ...max_depth=10, max_features=sqrt, n_estimators=10; total time=   0.2s\n",
      "[CV] END ...max_depth=10, max_features=sqrt, n_estimators=50; total time=   0.9s\n",
      "[CV] END ...max_depth=10, max_features=sqrt, n_estimators=50; total time=   1.2s\n",
      "[CV] END ...max_depth=10, max_features=log2, n_estimators=10; total time=   0.2s\n",
      "[CV] END ...max_depth=10, max_features=log2, n_estimators=10; total time=   0.2s\n",
      "[CV] END ...max_depth=10, max_features=sqrt, n_estimators=50; total time=   1.6s\n",
      "[CV] END ...max_depth=10, max_features=log2, n_estimators=10; total time=   0.2s\n",
      "[CV] END ..max_depth=10, max_features=sqrt, n_estimators=100; total time=   1.8s\n",
      "[CV] END ..max_depth=10, max_features=sqrt, n_estimators=100; total time=   2.2s\n",
      "[CV] END ..max_depth=10, max_features=sqrt, n_estimators=100; total time=   2.1s\n",
      "[CV] END ...max_depth=10, max_features=log2, n_estimators=50; total time=   1.0s\n",
      "[CV] END ...max_depth=10, max_features=log2, n_estimators=50; total time=   0.8s\n",
      "[CV] END ...max_depth=10, max_features=log2, n_estimators=50; total time=   1.1s\n",
      "[CV] END ..max_depth=10, max_features=sqrt, n_estimators=200; total time=   3.9s\n",
      "[CV] END ..max_depth=10, max_features=log2, n_estimators=100; total time=   1.8s\n",
      "[CV] END ..max_depth=10, max_features=log2, n_estimators=100; total time=   1.9s\n",
      "[CV] END ..max_depth=10, max_features=log2, n_estimators=100; total time=   2.5s\n",
      "[CV] END ..max_depth=10, max_features=sqrt, n_estimators=200; total time=   3.8s\n",
      "[CV] END ..max_depth=10, max_features=sqrt, n_estimators=200; total time=   4.5s\n",
      "[CV] END ...max_depth=10, max_features=None, n_estimators=10; total time=   0.8s\n",
      "[CV] END ...max_depth=10, max_features=None, n_estimators=10; total time=   0.8s\n",
      "[CV] END ...max_depth=10, max_features=None, n_estimators=10; total time=   1.2s\n",
      "[CV] END ..max_depth=10, max_features=log2, n_estimators=200; total time=   3.6s\n",
      "[CV] END ..max_depth=10, max_features=log2, n_estimators=200; total time=   3.8s\n",
      "[CV] END ..max_depth=10, max_features=log2, n_estimators=200; total time=   4.2s\n",
      "[CV] END ...max_depth=10, max_features=None, n_estimators=50; total time=   4.2s\n",
      "[CV] END ...max_depth=10, max_features=None, n_estimators=50; total time=   4.4s\n",
      "[CV] END ...max_depth=10, max_features=None, n_estimators=50; total time=   4.2s\n",
      "[CV] END ...max_depth=12, max_features=sqrt, n_estimators=10; total time=   0.2s\n",
      "[CV] END ...max_depth=12, max_features=sqrt, n_estimators=10; total time=   0.2s\n",
      "[CV] END ...max_depth=12, max_features=sqrt, n_estimators=10; total time=   0.2s\n",
      "[CV] END ...max_depth=12, max_features=sqrt, n_estimators=50; total time=   1.0s\n",
      "[CV] END ...max_depth=12, max_features=sqrt, n_estimators=50; total time=   1.1s\n",
      "[CV] END ...max_depth=12, max_features=sqrt, n_estimators=50; total time=   1.1s\n",
      "[CV] END ..max_depth=10, max_features=None, n_estimators=100; total time=   7.0s\n",
      "[CV] END ..max_depth=12, max_features=sqrt, n_estimators=100; total time=   2.7s\n",
      "[CV] END ..max_depth=10, max_features=None, n_estimators=100; total time=   8.9s\n",
      "[CV] END ..max_depth=12, max_features=sqrt, n_estimators=100; total time=   2.7s\n",
      "[CV] END ..max_depth=10, max_features=None, n_estimators=100; total time=   8.5s\n",
      "[CV] END ...max_depth=12, max_features=log2, n_estimators=10; total time=   0.2s\n",
      "[CV] END ...max_depth=12, max_features=log2, n_estimators=10; total time=   0.2s\n",
      "[CV] END ...max_depth=12, max_features=log2, n_estimators=10; total time=   0.2s\n",
      "[CV] END ..max_depth=12, max_features=sqrt, n_estimators=100; total time=   1.9s\n",
      "[CV] END ...max_depth=12, max_features=log2, n_estimators=50; total time=   1.0s\n",
      "[CV] END ...max_depth=12, max_features=log2, n_estimators=50; total time=   1.2s\n",
      "[CV] END ...max_depth=12, max_features=log2, n_estimators=50; total time=   1.0s\n",
      "[CV] END ..max_depth=12, max_features=sqrt, n_estimators=200; total time=   4.5s\n",
      "[CV] END ..max_depth=12, max_features=sqrt, n_estimators=200; total time=   4.5s\n",
      "[CV] END ..max_depth=12, max_features=sqrt, n_estimators=200; total time=   4.5s\n",
      "[CV] END ..max_depth=12, max_features=log2, n_estimators=100; total time=   2.5s\n",
      "[CV] END ..max_depth=12, max_features=log2, n_estimators=100; total time=   2.6s\n",
      "[CV] END ..max_depth=12, max_features=log2, n_estimators=100; total time=   2.5s\n",
      "[CV] END ...max_depth=12, max_features=None, n_estimators=10; total time=   1.2s\n",
      "[CV] END ...max_depth=12, max_features=None, n_estimators=10; total time=   1.0s\n",
      "[CV] END ...max_depth=12, max_features=None, n_estimators=10; total time=   1.0s\n",
      "[CV] END ..max_depth=12, max_features=log2, n_estimators=200; total time=   4.3s\n",
      "[CV] END ..max_depth=12, max_features=log2, n_estimators=200; total time=   4.4s\n",
      "[CV] END ..max_depth=12, max_features=log2, n_estimators=200; total time=   4.7s\n",
      "[CV] END ..max_depth=10, max_features=None, n_estimators=200; total time=  17.5s\n",
      "[CV] END ..max_depth=10, max_features=None, n_estimators=200; total time=  19.8s\n",
      "[CV] END ...max_depth=12, max_features=None, n_estimators=50; total time=   5.3s\n",
      "[CV] END ..max_depth=10, max_features=None, n_estimators=200; total time=  18.2s\n",
      "[CV] END ...max_depth=12, max_features=None, n_estimators=50; total time=   4.2s\n",
      "[CV] END ...max_depth=12, max_features=None, n_estimators=50; total time=   5.1s\n",
      "[CV] END .max_depth=None, max_features=sqrt, n_estimators=10; total time=   0.3s\n",
      "[CV] END .max_depth=None, max_features=sqrt, n_estimators=10; total time=   0.3s\n",
      "[CV] END .max_depth=None, max_features=sqrt, n_estimators=10; total time=   0.3s\n",
      "[CV] END .max_depth=None, max_features=sqrt, n_estimators=50; total time=   1.6s\n",
      "[CV] END .max_depth=None, max_features=sqrt, n_estimators=50; total time=   1.4s\n",
      "[CV] END .max_depth=None, max_features=sqrt, n_estimators=50; total time=   1.5s\n",
      "[CV] END max_depth=None, max_features=sqrt, n_estimators=100; total time=   3.4s\n",
      "[CV] END ..max_depth=12, max_features=None, n_estimators=100; total time=   9.9s\n",
      "[CV] END ..max_depth=12, max_features=None, n_estimators=100; total time=   9.9s\n",
      "[CV] END max_depth=None, max_features=sqrt, n_estimators=100; total time=   2.9s\n",
      "[CV] END ..max_depth=12, max_features=None, n_estimators=100; total time=   8.6s\n",
      "[CV] END .max_depth=None, max_features=log2, n_estimators=10; total time=   0.3s\n",
      "[CV] END .max_depth=None, max_features=log2, n_estimators=10; total time=   0.3s\n",
      "[CV] END .max_depth=None, max_features=log2, n_estimators=10; total time=   0.3s\n",
      "[CV] END max_depth=None, max_features=sqrt, n_estimators=100; total time=   2.8s\n",
      "[CV] END .max_depth=None, max_features=log2, n_estimators=50; total time=   1.4s\n",
      "[CV] END .max_depth=None, max_features=log2, n_estimators=50; total time=   1.6s\n",
      "[CV] END .max_depth=None, max_features=log2, n_estimators=50; total time=   1.5s\n",
      "[CV] END max_depth=None, max_features=sqrt, n_estimators=200; total time=   5.3s\n",
      "[CV] END max_depth=None, max_features=sqrt, n_estimators=200; total time=   5.9s\n",
      "[CV] END max_depth=None, max_features=sqrt, n_estimators=200; total time=   6.1s\n",
      "[CV] END max_depth=None, max_features=log2, n_estimators=100; total time=   3.3s\n",
      "[CV] END max_depth=None, max_features=log2, n_estimators=100; total time=   2.9s\n",
      "[CV] END max_depth=None, max_features=log2, n_estimators=100; total time=   2.7s\n",
      "[CV] END .max_depth=None, max_features=None, n_estimators=10; total time=   1.2s\n",
      "[CV] END .max_depth=None, max_features=None, n_estimators=10; total time=   1.0s\n",
      "[CV] END .max_depth=None, max_features=None, n_estimators=10; total time=   1.0s\n",
      "[CV] END ..max_depth=12, max_features=None, n_estimators=200; total time=  16.5s\n",
      "[CV] END max_depth=None, max_features=log2, n_estimators=200; total time=   5.8s\n",
      "[CV] END max_depth=None, max_features=log2, n_estimators=200; total time=   6.1s\n",
      "[CV] END max_depth=None, max_features=log2, n_estimators=200; total time=   5.8s\n",
      "[CV] END ..max_depth=12, max_features=None, n_estimators=200; total time=  19.7s\n",
      "[CV] END ..max_depth=12, max_features=None, n_estimators=200; total time=  20.4s\n",
      "[CV] END .max_depth=None, max_features=None, n_estimators=50; total time=   5.3s\n",
      "[CV] END .max_depth=None, max_features=None, n_estimators=50; total time=   4.4s\n",
      "[CV] END ...max_depth=15, max_features=sqrt, n_estimators=10; total time=   0.2s\n",
      "[CV] END ...max_depth=15, max_features=sqrt, n_estimators=10; total time=   0.2s\n",
      "[CV] END ...max_depth=15, max_features=sqrt, n_estimators=10; total time=   0.2s\n",
      "[CV] END .max_depth=None, max_features=None, n_estimators=50; total time=   5.3s\n",
      "[CV] END ...max_depth=15, max_features=sqrt, n_estimators=50; total time=   1.2s\n",
      "[CV] END ...max_depth=15, max_features=sqrt, n_estimators=50; total time=   1.2s\n",
      "[CV] END ...max_depth=15, max_features=sqrt, n_estimators=50; total time=   1.1s\n",
      "[CV] END ..max_depth=15, max_features=sqrt, n_estimators=100; total time=   2.5s\n",
      "[CV] END ..max_depth=15, max_features=sqrt, n_estimators=100; total time=   2.3s\n",
      "[CV] END ..max_depth=15, max_features=sqrt, n_estimators=100; total time=   2.4s\n",
      "[CV] END max_depth=None, max_features=None, n_estimators=100; total time=  10.0s\n",
      "[CV] END max_depth=None, max_features=None, n_estimators=100; total time=  11.5s\n",
      "[CV] END max_depth=None, max_features=None, n_estimators=100; total time=  10.8s\n",
      "[CV] END ...max_depth=15, max_features=log2, n_estimators=10; total time=   0.3s\n",
      "[CV] END ...max_depth=15, max_features=log2, n_estimators=10; total time=   0.3s\n",
      "[CV] END ...max_depth=15, max_features=log2, n_estimators=10; total time=   0.2s\n",
      "[CV] END ...max_depth=15, max_features=log2, n_estimators=50; total time=   1.1s\n",
      "[CV] END ..max_depth=15, max_features=sqrt, n_estimators=200; total time=   4.7s\n",
      "[CV] END ...max_depth=15, max_features=log2, n_estimators=50; total time=   1.3s\n",
      "[CV] END ...max_depth=15, max_features=log2, n_estimators=50; total time=   1.3s\n",
      "[CV] END ..max_depth=15, max_features=sqrt, n_estimators=200; total time=   4.8s\n",
      "[CV] END ..max_depth=15, max_features=log2, n_estimators=100; total time=   2.8s\n",
      "[CV] END ..max_depth=15, max_features=log2, n_estimators=100; total time=   2.8s\n",
      "[CV] END ..max_depth=15, max_features=sqrt, n_estimators=200; total time=   4.9s\n",
      "[CV] END ...max_depth=15, max_features=None, n_estimators=10; total time=   1.2s\n",
      "[CV] END ..max_depth=15, max_features=log2, n_estimators=100; total time=   3.1s\n",
      "[CV] END ...max_depth=15, max_features=None, n_estimators=10; total time=   0.9s\n",
      "[CV] END ...max_depth=15, max_features=None, n_estimators=10; total time=   1.0s\n",
      "[CV] END ..max_depth=15, max_features=log2, n_estimators=200; total time=   5.2s\n",
      "[CV] END ..max_depth=15, max_features=log2, n_estimators=200; total time=   5.0s\n",
      "[CV] END ..max_depth=15, max_features=log2, n_estimators=200; total time=   5.2s\n",
      "[CV] END max_depth=None, max_features=None, n_estimators=200; total time=  20.5s\n",
      "[CV] END ...max_depth=15, max_features=None, n_estimators=50; total time=   5.3s\n",
      "[CV] END ...max_depth=15, max_features=None, n_estimators=50; total time=   5.4s\n",
      "[CV] END max_depth=None, max_features=None, n_estimators=200; total time=  22.2s\n",
      "[CV] END ...max_depth=15, max_features=None, n_estimators=50; total time=   4.9s\n",
      "[CV] END max_depth=None, max_features=None, n_estimators=200; total time=  23.5s\n",
      "[CV] END ...max_depth=20, max_features=sqrt, n_estimators=10; total time=   0.4s\n",
      "[CV] END ...max_depth=20, max_features=sqrt, n_estimators=10; total time=   0.4s\n",
      "[CV] END ...max_depth=20, max_features=sqrt, n_estimators=10; total time=   0.3s\n",
      "[CV] END ...max_depth=20, max_features=sqrt, n_estimators=50; total time=   1.5s\n",
      "[CV] END ...max_depth=20, max_features=sqrt, n_estimators=50; total time=   1.4s\n",
      "[CV] END ...max_depth=20, max_features=sqrt, n_estimators=50; total time=   1.3s\n",
      "[CV] END ..max_depth=20, max_features=sqrt, n_estimators=100; total time=   3.0s\n",
      "[CV] END ..max_depth=20, max_features=sqrt, n_estimators=100; total time=   2.9s\n",
      "[CV] END ..max_depth=15, max_features=None, n_estimators=100; total time=  10.3s\n",
      "[CV] END ..max_depth=15, max_features=None, n_estimators=100; total time=  10.6s\n",
      "[CV] END ..max_depth=20, max_features=sqrt, n_estimators=100; total time=   2.6s\n",
      "[CV] END ...max_depth=20, max_features=log2, n_estimators=10; total time=   0.3s\n",
      "[CV] END ...max_depth=20, max_features=log2, n_estimators=10; total time=   0.3s\n",
      "[CV] END ..max_depth=15, max_features=None, n_estimators=100; total time=   9.8s\n",
      "[CV] END ...max_depth=20, max_features=log2, n_estimators=10; total time=   0.3s\n",
      "[CV] END ...max_depth=20, max_features=log2, n_estimators=50; total time=   1.4s\n",
      "[CV] END ...max_depth=20, max_features=log2, n_estimators=50; total time=   1.5s\n",
      "[CV] END ...max_depth=20, max_features=log2, n_estimators=50; total time=   1.3s\n",
      "[CV] END ..max_depth=20, max_features=sqrt, n_estimators=200; total time=   5.1s\n",
      "[CV] END ..max_depth=20, max_features=sqrt, n_estimators=200; total time=   5.8s\n",
      "[CV] END ..max_depth=20, max_features=sqrt, n_estimators=200; total time=   5.5s\n",
      "[CV] END ..max_depth=20, max_features=log2, n_estimators=100; total time=   2.8s\n",
      "[CV] END ..max_depth=20, max_features=log2, n_estimators=100; total time=   2.5s\n",
      "[CV] END ..max_depth=20, max_features=log2, n_estimators=100; total time=   2.9s\n",
      "[CV] END ...max_depth=20, max_features=None, n_estimators=10; total time=   1.0s\n",
      "[CV] END ...max_depth=20, max_features=None, n_estimators=10; total time=   1.1s\n",
      "[CV] END ...max_depth=20, max_features=None, n_estimators=10; total time=   1.0s\n",
      "[CV] END ..max_depth=20, max_features=log2, n_estimators=200; total time=   5.3s\n",
      "[CV] END ..max_depth=20, max_features=log2, n_estimators=200; total time=   5.4s\n",
      "[CV] END ..max_depth=20, max_features=log2, n_estimators=200; total time=   5.4s\n",
      "[CV] END ..max_depth=15, max_features=None, n_estimators=200; total time=  18.7s\n",
      "[CV] END ..max_depth=15, max_features=None, n_estimators=200; total time=  20.1s\n",
      "[CV] END ...max_depth=20, max_features=None, n_estimators=50; total time=   5.5s\n",
      "[CV] END ..max_depth=15, max_features=None, n_estimators=200; total time=  22.0s\n",
      "[CV] END ...max_depth=20, max_features=None, n_estimators=50; total time=   5.2s\n",
      "[CV] END ...max_depth=20, max_features=None, n_estimators=50; total time=   4.8s\n",
      "[CV] END ..max_depth=20, max_features=None, n_estimators=100; total time=   9.0s\n",
      "[CV] END ..max_depth=20, max_features=None, n_estimators=100; total time=  10.0s\n",
      "[CV] END ..max_depth=20, max_features=None, n_estimators=100; total time=   9.8s\n",
      "[CV] END ..max_depth=20, max_features=None, n_estimators=200; total time=  12.8s\n",
      "[CV] END ..max_depth=20, max_features=None, n_estimators=200; total time=  13.6s\n",
      "[CV] END ..max_depth=20, max_features=None, n_estimators=200; total time=  15.8s\n",
      "Fitting 3 folds for each of 40 candidates, totalling 120 fits\n",
      "[CV] END .....algorithm=auto, n_neighbors=4, weights=uniform; total time=   0.8s\n",
      "[CV] END .....algorithm=auto, n_neighbors=3, weights=uniform; total time=   0.8s\n",
      "[CV] END ....algorithm=auto, n_neighbors=3, weights=distance; total time=   0.8s\n",
      "[CV] END .....algorithm=auto, n_neighbors=3, weights=uniform; total time=   0.8s\n",
      "[CV] END ....algorithm=auto, n_neighbors=3, weights=distance; total time=   0.8s\n",
      "[CV] END ....algorithm=auto, n_neighbors=3, weights=distance; total time=   0.9s\n",
      "[CV] END .....algorithm=auto, n_neighbors=3, weights=uniform; total time=   0.9s\n",
      "[CV] END .....algorithm=auto, n_neighbors=4, weights=uniform; total time=   0.9s\n",
      "[CV] END .....algorithm=auto, n_neighbors=4, weights=uniform; total time=   0.8s\n",
      "[CV] END ....algorithm=auto, n_neighbors=4, weights=distance; total time=   0.8s\n",
      "[CV] END ....algorithm=auto, n_neighbors=4, weights=distance; total time=   0.8s\n",
      "[CV] END ....algorithm=auto, n_neighbors=4, weights=distance; total time=   0.9s\n",
      "[CV] END .....algorithm=auto, n_neighbors=5, weights=uniform; total time=   0.8s\n",
      "[CV] END .....algorithm=auto, n_neighbors=5, weights=uniform; total time=   0.8s\n",
      "[CV] END ....algorithm=auto, n_neighbors=5, weights=distance; total time=   0.9s\n",
      "[CV] END .....algorithm=auto, n_neighbors=5, weights=uniform; total time=   0.9s\n",
      "[CV] END ....algorithm=auto, n_neighbors=5, weights=distance; total time=   0.8s\n",
      "[CV] END ....algorithm=auto, n_neighbors=5, weights=distance; total time=   0.8s\n",
      "[CV] END .....algorithm=auto, n_neighbors=7, weights=uniform; total time=   0.8s\n",
      "[CV] END ....algorithm=auto, n_neighbors=7, weights=distance; total time=   0.8s\n",
      "[CV] END .....algorithm=auto, n_neighbors=7, weights=uniform; total time=   0.9s\n",
      "[CV] END .....algorithm=auto, n_neighbors=7, weights=uniform; total time=   0.9s\n",
      "[CV] END ....algorithm=auto, n_neighbors=7, weights=distance; total time=   0.9s\n",
      "[CV] END ....algorithm=auto, n_neighbors=7, weights=distance; total time=   0.9s\n",
      "[CV] END .....algorithm=auto, n_neighbors=9, weights=uniform; total time=   0.8s\n",
      "[CV] END .....algorithm=auto, n_neighbors=9, weights=uniform; total time=   0.8s\n",
      "[CV] END ....algorithm=auto, n_neighbors=9, weights=distance; total time=   0.8s\n",
      "[CV] END .....algorithm=auto, n_neighbors=9, weights=uniform; total time=   0.9s\n",
      "[CV] END ....algorithm=auto, n_neighbors=9, weights=distance; total time=   0.8s\n",
      "[CV] END ....algorithm=auto, n_neighbors=9, weights=distance; total time=   0.8s\n",
      "[CV] END algorithm=ball_tree, n_neighbors=3, weights=uniform; total time=   5.3s\n",
      "[CV] END algorithm=ball_tree, n_neighbors=3, weights=uniform; total time=   5.5s\n",
      "[CV] END algorithm=ball_tree, n_neighbors=3, weights=distance; total time=   5.3s\n",
      "[CV] END algorithm=ball_tree, n_neighbors=3, weights=distance; total time=   5.3s\n",
      "[CV] END algorithm=ball_tree, n_neighbors=3, weights=distance; total time=   5.3s\n",
      "[CV] END algorithm=ball_tree, n_neighbors=3, weights=uniform; total time=   6.0s\n",
      "[CV] END algorithm=ball_tree, n_neighbors=4, weights=uniform; total time=   6.3s\n",
      "[CV] END algorithm=ball_tree, n_neighbors=4, weights=uniform; total time=   6.5s\n",
      "[CV] END algorithm=ball_tree, n_neighbors=4, weights=distance; total time=   5.8s\n",
      "[CV] END algorithm=ball_tree, n_neighbors=4, weights=distance; total time=   6.0s\n",
      "[CV] END algorithm=ball_tree, n_neighbors=4, weights=uniform; total time=   6.6s\n",
      "[CV] END algorithm=ball_tree, n_neighbors=4, weights=distance; total time=   6.2s\n",
      "[CV] END algorithm=ball_tree, n_neighbors=5, weights=uniform; total time=   6.4s\n",
      "[CV] END algorithm=ball_tree, n_neighbors=5, weights=uniform; total time=   7.7s\n",
      "[CV] END algorithm=ball_tree, n_neighbors=5, weights=uniform; total time=   7.4s\n",
      "[CV] END algorithm=ball_tree, n_neighbors=5, weights=distance; total time=   7.9s\n",
      "[CV] END algorithm=ball_tree, n_neighbors=5, weights=distance; total time=   6.5s\n",
      "[CV] END algorithm=ball_tree, n_neighbors=5, weights=distance; total time=   8.3s\n",
      "[CV] END algorithm=ball_tree, n_neighbors=7, weights=uniform; total time=   8.2s\n",
      "[CV] END algorithm=ball_tree, n_neighbors=7, weights=distance; total time=   6.7s\n",
      "[CV] END algorithm=ball_tree, n_neighbors=7, weights=uniform; total time=   9.9s\n",
      "[CV] END algorithm=ball_tree, n_neighbors=7, weights=distance; total time=   8.9s\n",
      "[CV] END algorithm=ball_tree, n_neighbors=7, weights=uniform; total time=  10.9s\n",
      "[CV] END algorithm=ball_tree, n_neighbors=7, weights=distance; total time=   8.9s\n",
      "[CV] END ..algorithm=kd_tree, n_neighbors=3, weights=uniform; total time=   2.9s\n",
      "[CV] END ..algorithm=kd_tree, n_neighbors=3, weights=uniform; total time=   3.4s\n",
      "[CV] END algorithm=ball_tree, n_neighbors=9, weights=uniform; total time=   9.5s\n",
      "[CV] END ..algorithm=kd_tree, n_neighbors=3, weights=uniform; total time=   2.1s\n",
      "[CV] END algorithm=ball_tree, n_neighbors=9, weights=uniform; total time=   8.3s\n",
      "[CV] END .algorithm=kd_tree, n_neighbors=3, weights=distance; total time=   1.8s\n",
      "[CV] END .algorithm=kd_tree, n_neighbors=3, weights=distance; total time=   1.9s\n",
      "[CV] END algorithm=ball_tree, n_neighbors=9, weights=distance; total time=   8.2s\n",
      "[CV] END algorithm=ball_tree, n_neighbors=9, weights=uniform; total time=   9.8s\n",
      "[CV] END algorithm=ball_tree, n_neighbors=9, weights=distance; total time=   8.8s\n",
      "[CV] END .algorithm=kd_tree, n_neighbors=3, weights=distance; total time=   2.5s\n",
      "[CV] END ..algorithm=kd_tree, n_neighbors=4, weights=uniform; total time=   2.8s\n",
      "[CV] END algorithm=ball_tree, n_neighbors=9, weights=distance; total time=   8.4s\n",
      "[CV] END ..algorithm=kd_tree, n_neighbors=4, weights=uniform; total time=   3.2s\n",
      "[CV] END ..algorithm=kd_tree, n_neighbors=4, weights=uniform; total time=   3.1s\n",
      "[CV] END .algorithm=kd_tree, n_neighbors=4, weights=distance; total time=   2.4s\n",
      "[CV] END .algorithm=kd_tree, n_neighbors=4, weights=distance; total time=   2.1s\n",
      "[CV] END .algorithm=kd_tree, n_neighbors=4, weights=distance; total time=   2.6s\n",
      "[CV] END ..algorithm=kd_tree, n_neighbors=5, weights=uniform; total time=   2.7s\n",
      "[CV] END .algorithm=kd_tree, n_neighbors=5, weights=distance; total time=   1.9s\n",
      "[CV] END ..algorithm=kd_tree, n_neighbors=5, weights=uniform; total time=   2.5s\n",
      "[CV] END ..algorithm=kd_tree, n_neighbors=5, weights=uniform; total time=   2.8s\n",
      "[CV] END .algorithm=kd_tree, n_neighbors=5, weights=distance; total time=   2.1s\n",
      "[CV] END .algorithm=kd_tree, n_neighbors=5, weights=distance; total time=   2.2s\n",
      "[CV] END ..algorithm=kd_tree, n_neighbors=7, weights=uniform; total time=   2.9s\n",
      "[CV] END ..algorithm=kd_tree, n_neighbors=7, weights=uniform; total time=   2.9s\n",
      "[CV] END .algorithm=kd_tree, n_neighbors=7, weights=distance; total time=   2.3s\n",
      "[CV] END .algorithm=kd_tree, n_neighbors=7, weights=distance; total time=   2.4s\n",
      "[CV] END ..algorithm=kd_tree, n_neighbors=7, weights=uniform; total time=   3.2s\n",
      "[CV] END .algorithm=kd_tree, n_neighbors=7, weights=distance; total time=   2.7s\n",
      "[CV] END ....algorithm=brute, n_neighbors=3, weights=uniform; total time=   0.7s\n",
      "[CV] END ....algorithm=brute, n_neighbors=3, weights=uniform; total time=   0.7s\n",
      "[CV] END ..algorithm=kd_tree, n_neighbors=9, weights=uniform; total time=   3.2s\n",
      "[CV] END ....algorithm=brute, n_neighbors=3, weights=uniform; total time=   0.7s\n",
      "[CV] END .algorithm=kd_tree, n_neighbors=9, weights=distance; total time=   2.5s\n",
      "[CV] END ...algorithm=brute, n_neighbors=3, weights=distance; total time=   0.7s\n",
      "[CV] END ..algorithm=kd_tree, n_neighbors=9, weights=uniform; total time=   3.5s\n",
      "[CV] END .algorithm=kd_tree, n_neighbors=9, weights=distance; total time=   2.3s\n",
      "[CV] END ...algorithm=brute, n_neighbors=3, weights=distance; total time=   0.8s\n",
      "[CV] END ..algorithm=kd_tree, n_neighbors=9, weights=uniform; total time=   2.9s\n",
      "[CV] END ...algorithm=brute, n_neighbors=3, weights=distance; total time=   0.8s\n",
      "[CV] END .algorithm=kd_tree, n_neighbors=9, weights=distance; total time=   2.5s\n",
      "[CV] END ...algorithm=brute, n_neighbors=4, weights=distance; total time=   0.7s\n",
      "[CV] END ....algorithm=brute, n_neighbors=4, weights=uniform; total time=   0.8s\n",
      "[CV] END ....algorithm=brute, n_neighbors=4, weights=uniform; total time=   0.8s\n",
      "[CV] END ....algorithm=brute, n_neighbors=4, weights=uniform; total time=   0.9s\n",
      "[CV] END ...algorithm=brute, n_neighbors=4, weights=distance; total time=   0.8s\n",
      "[CV] END ...algorithm=brute, n_neighbors=4, weights=distance; total time=   0.7s\n",
      "[CV] END ....algorithm=brute, n_neighbors=5, weights=uniform; total time=   0.9s\n",
      "[CV] END ....algorithm=brute, n_neighbors=5, weights=uniform; total time=   0.8s\n",
      "[CV] END ...algorithm=brute, n_neighbors=5, weights=distance; total time=   0.8s\n",
      "[CV] END ....algorithm=brute, n_neighbors=5, weights=uniform; total time=   0.8s\n",
      "[CV] END ...algorithm=brute, n_neighbors=5, weights=distance; total time=   0.8s\n",
      "[CV] END ...algorithm=brute, n_neighbors=5, weights=distance; total time=   0.9s\n",
      "[CV] END ....algorithm=brute, n_neighbors=7, weights=uniform; total time=   0.7s\n",
      "[CV] END ....algorithm=brute, n_neighbors=7, weights=uniform; total time=   0.8s\n",
      "[CV] END ...algorithm=brute, n_neighbors=7, weights=distance; total time=   0.8s\n",
      "[CV] END ....algorithm=brute, n_neighbors=7, weights=uniform; total time=   0.9s\n",
      "[CV] END ...algorithm=brute, n_neighbors=7, weights=distance; total time=   0.8s\n",
      "[CV] END ....algorithm=brute, n_neighbors=9, weights=uniform; total time=   0.8s\n",
      "[CV] END ...algorithm=brute, n_neighbors=7, weights=distance; total time=   0.9s\n",
      "[CV] END ....algorithm=brute, n_neighbors=9, weights=uniform; total time=   0.8s\n",
      "[CV] END ....algorithm=brute, n_neighbors=9, weights=uniform; total time=   0.7s\n",
      "[CV] END ...algorithm=brute, n_neighbors=9, weights=distance; total time=   0.7s\n",
      "[CV] END ...algorithm=brute, n_neighbors=9, weights=distance; total time=   0.4s\n",
      "[CV] END ...algorithm=brute, n_neighbors=9, weights=distance; total time=   0.5s\n",
      "---------------- Best Params for XGBoost -------------------\n",
      "{'min_child_weight': 1, 'max_depth': 9}\n",
      "---------------- Best Params for RF -------------------\n",
      "{'n_estimators': 200, 'max_features': 'log2', 'max_depth': None}\n",
      "---------------- Best Params for KNN -------------------\n",
      "{'weights': 'distance', 'n_neighbors': 4, 'algorithm': 'auto'}\n"
     ]
    }
   ],
   "source": [
    "from sklearn.model_selection import RandomizedSearchCV\n",
    "\n",
    "model_param = {}\n",
    "for name, model, params in randomcv_models:\n",
    "    random = RandomizedSearchCV(estimator=model,\n",
    "                                   param_distributions=params,\n",
    "                                   n_iter=100,\n",
    "                                   cv=3,\n",
    "                                   verbose=2, \n",
    "                                   n_jobs=-1)\n",
    "    random.fit(X_res, y_res)\n",
    "    model_param[name] = random.best_params_\n",
    "\n",
    "for model_name in model_param:\n",
    "    print(f\"---------------- Best Params for {model_name} -------------------\")\n",
    "    print(model_param[model_name])"
   ]
  },
  {
   "cell_type": "code",
   "execution_count": 42,
   "metadata": {},
   "outputs": [
    {
     "data": {
      "text/plain": [
       "{'XGBoost': {'min_child_weight': 1, 'max_depth': 9},\n",
       " 'RF': {'n_estimators': 200, 'max_features': 'log2', 'max_depth': None},\n",
       " 'KNN': {'weights': 'distance', 'n_neighbors': 4, 'algorithm': 'auto'}}"
      ]
     },
     "execution_count": 42,
     "metadata": {},
     "output_type": "execute_result"
    }
   ],
   "source": [
    "\n",
    "\n",
    "model_param\n",
    "\n"
   ]
  },
  {
   "cell_type": "markdown",
   "metadata": {},
   "source": [
    "## Retraining the model with imporved parameters"
   ]
  },
  {
   "cell_type": "code",
   "execution_count": 43,
   "metadata": {},
   "outputs": [
    {
     "name": "stdout",
     "output_type": "stream",
     "text": [
      "Random Forest Classifier\n",
      "Model performance for Training set\n",
      "- Accuracy: 1.0000\n",
      "- F1 score: 1.0000\n",
      "- Precision: 1.0000\n",
      "- Recall: 1.0000\n",
      "- Roc Auc Score: 1.0000\n",
      "----------------------------------\n",
      "Model performance for Test set\n",
      "- Accuracy: 0.9513\n",
      "- F1 score: 0.9552\n",
      "- Precision: 0.9490\n",
      "- Recall: 0.9614\n",
      "- Roc Auc Score: 0.9504\n",
      "===================================\n",
      "\n",
      "\n",
      "KNeighborsClassifier\n",
      "Model performance for Training set\n",
      "- Accuracy: 1.0000\n",
      "- F1 score: 1.0000\n",
      "- Precision: 1.0000\n",
      "- Recall: 1.0000\n",
      "- Roc Auc Score: 1.0000\n",
      "----------------------------------\n",
      "Model performance for Test set\n",
      "- Accuracy: 0.9683\n",
      "- F1 score: 0.9711\n",
      "- Precision: 0.9577\n",
      "- Recall: 0.9848\n",
      "- Roc Auc Score: 0.9669\n",
      "===================================\n",
      "\n",
      "\n",
      "XGBClassifier\n",
      "Model performance for Training set\n",
      "- Accuracy: 0.9996\n",
      "- F1 score: 0.9996\n",
      "- Precision: 0.9992\n",
      "- Recall: 1.0000\n",
      "- Roc Auc Score: 0.9995\n",
      "----------------------------------\n",
      "Model performance for Test set\n",
      "- Accuracy: 0.9448\n",
      "- F1 score: 0.9491\n",
      "- Precision: 0.9455\n",
      "- Recall: 0.9527\n",
      "- Roc Auc Score: 0.9442\n",
      "===================================\n",
      "\n",
      "\n"
     ]
    }
   ],
   "source": [
    "\n",
    "\n",
    "from sklearn.metrics import roc_auc_score,roc_curve\n",
    "best_models = {\n",
    "    \"Random Forest Classifier\": RandomForestClassifier(**model_param['RF']),\n",
    "    \"KNeighborsClassifier\": KNeighborsClassifier(**model_param['KNN']),\n",
    "    \"XGBClassifier\": XGBClassifier(**model_param['XGBoost'],n_jobs=-1),\n",
    "}\n",
    "tuned_report =evaluate_models(X=X_res, y=y_res, models=best_models)\n",
    "\n"
   ]
  },
  {
   "cell_type": "code",
   "execution_count": 44,
   "metadata": {},
   "outputs": [
    {
     "data": {
      "text/html": [
       "<div>\n",
       "<style scoped>\n",
       "    .dataframe tbody tr th:only-of-type {\n",
       "        vertical-align: middle;\n",
       "    }\n",
       "\n",
       "    .dataframe tbody tr th {\n",
       "        vertical-align: top;\n",
       "    }\n",
       "\n",
       "    .dataframe thead th {\n",
       "        text-align: right;\n",
       "    }\n",
       "</style>\n",
       "<table border=\"1\" class=\"dataframe\">\n",
       "  <thead>\n",
       "    <tr style=\"text-align: right;\">\n",
       "      <th></th>\n",
       "      <th>Model Name</th>\n",
       "      <th>Accuracy</th>\n",
       "    </tr>\n",
       "  </thead>\n",
       "  <tbody>\n",
       "    <tr>\n",
       "      <th>1</th>\n",
       "      <td>KNeighborsClassifier</td>\n",
       "      <td>0.968310</td>\n",
       "    </tr>\n",
       "    <tr>\n",
       "      <th>0</th>\n",
       "      <td>Random Forest Classifier</td>\n",
       "      <td>0.951291</td>\n",
       "    </tr>\n",
       "    <tr>\n",
       "      <th>2</th>\n",
       "      <td>XGBClassifier</td>\n",
       "      <td>0.944836</td>\n",
       "    </tr>\n",
       "  </tbody>\n",
       "</table>\n",
       "</div>"
      ],
      "text/plain": [
       "                 Model Name  Accuracy\n",
       "1      KNeighborsClassifier  0.968310\n",
       "0  Random Forest Classifier  0.951291\n",
       "2             XGBClassifier  0.944836"
      ]
     },
     "execution_count": 44,
     "metadata": {},
     "output_type": "execute_result"
    }
   ],
   "source": [
    "tuned_report\n"
   ]
  },
  {
   "cell_type": "code",
   "execution_count": 45,
   "metadata": {},
   "outputs": [
    {
     "name": "stdout",
     "output_type": "stream",
     "text": [
      "FINAL MODEL 'KNN'\n",
      "Accuracy Score value: 0.9683\n",
      "              precision    recall  f1-score   support\n",
      "\n",
      "           0       0.98      0.95      0.96      1568\n",
      "           1       0.96      0.98      0.97      1840\n",
      "\n",
      "    accuracy                           0.97      3408\n",
      "   macro avg       0.97      0.97      0.97      3408\n",
      "weighted avg       0.97      0.97      0.97      3408\n",
      "\n"
     ]
    }
   ],
   "source": [
    "best_model = KNeighborsClassifier(**model_param['KNN'])\n",
    "best_model = best_model.fit(X_train,y_train)\n",
    "y_pred = best_model.predict(X_test)\n",
    "score = accuracy_score(y_test,y_pred)\n",
    "cr = classification_report(y_test,y_pred)\n",
    "\n",
    "print(\"FINAL MODEL 'KNN'\")\n",
    "print (\"Accuracy Score value: {:.4f}\".format(score))\n",
    "print (cr)"
   ]
  },
  {
   "cell_type": "code",
   "execution_count": 46,
   "metadata": {},
   "outputs": [
    {
     "data": {
      "text/plain": [
       "<sklearn.metrics._plot.confusion_matrix.ConfusionMatrixDisplay at 0x7a3e0bad18d0>"
      ]
     },
     "execution_count": 46,
     "metadata": {},
     "output_type": "execute_result"
    },
    {
     "data": {
      "image/png": "[encoded data removed]",
      "text/plain": [
       "<Figure size 640x480 with 2 Axes>"
      ]
     },
     "metadata": {},
     "output_type": "display_data"
    }
   ],
   "source": [
    "\n",
    "\n",
    "from sklearn.metrics import ConfusionMatrixDisplay\n",
    "ConfusionMatrixDisplay.from_estimator(best_model, X_test, y_test)\n",
    "\n"
   ]
  },
  {
   "cell_type": "markdown",
   "metadata": {},
   "source": [
    "## KNN is the best model"
   ]
  },
  {
   "cell_type": "code",
   "execution_count": null,
   "metadata": {},
   "outputs": [],
   "source": []
  }
 ],
 "metadata": {
  "kernelspec": {
   "display_name": "Python 3",
   "language": "python",
   "name": "python3"
  },
  "language_info": {
   "codemirror_mode": {
    "name": "ipython",
    "version": 3
   },
   "file_extension": ".py",
   "mimetype": "text/x-python",
   "name": "python",
   "nbconvert_exporter": "python",
   "pygments_lexer": "ipython3",
   "version": "3.11.11"
  }
 },
 "nbformat": 4,
 "nbformat_minor": 2
}
